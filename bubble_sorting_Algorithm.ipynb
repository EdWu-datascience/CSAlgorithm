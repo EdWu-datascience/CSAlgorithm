{
  "nbformat": 4,
  "nbformat_minor": 0,
  "metadata": {
    "colab": {
      "name": "bubble sorting Algorithm.ipynb",
      "provenance": [],
      "collapsed_sections": [],
      "authorship_tag": "ABX9TyMoL0pDyGPHbuZ8s7lNbyQE",
      "include_colab_link": true
    },
    "kernelspec": {
      "name": "python3",
      "display_name": "Python 3"
    },
    "language_info": {
      "name": "python"
    }
  },
  "cells": [
    {
      "cell_type": "markdown",
      "metadata": {
        "id": "view-in-github",
        "colab_type": "text"
      },
      "source": [
        "<a href=\"https://colab.research.google.com/github/EdWu-datascience/CSAlgorithm/blob/main/bubble_sorting_Algorithm.ipynb\" target=\"_parent\"><img src=\"https://colab.research.google.com/assets/colab-badge.svg\" alt=\"Open In Colab\"/></a>"
      ]
    },
    {
      "cell_type": "code",
      "execution_count": null,
      "metadata": {
        "colab": {
          "base_uri": "https://localhost:8080/"
        },
        "id": "ctAODo6NkPku",
        "outputId": "a0ca5d3b-c580-4ee9-ed17-a6a9d45a7800"
      },
      "outputs": [
        {
          "output_type": "stream",
          "name": "stdout",
          "text": [
            "[1, 2, 3, 5, 5, 5, 6, 7, 7, 9]\n"
          ]
        }
      ],
      "source": [
        "def bubble_sort(list_a):\n",
        "  if len(list_a) <= 1:\n",
        "    return list_a\n",
        "\n",
        "  sort = False\n",
        "  while not sort:\n",
        "    sort = True\n",
        "    for i in range(0,len(list_a)-1):\n",
        "      if list_a[i] > list_a[i+1]:\n",
        "        sort = False\n",
        "        temp = list_a[i]\n",
        "        list_a[i] = list_a[i+1]\n",
        "        list_a[i+1] = temp\n",
        "        #list_a[i], list_a[i+1] = list_a[i+1], list[i]\n",
        "  return list_a\n",
        "\n",
        "print(bubble_sort([3,5,1,2,5,6,7,5,9,7]))\n",
        "\n",
        "#  The time complexity for this bubble algorithm is either O(n^2) in the worest case \n",
        "#.   or O(n) in the best case."
      ]
    }
  ]
}