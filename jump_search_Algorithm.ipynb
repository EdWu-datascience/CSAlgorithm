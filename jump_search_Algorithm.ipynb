{
  "nbformat": 4,
  "nbformat_minor": 0,
  "metadata": {
    "colab": {
      "name": "jump search Algorithm.ipynb",
      "provenance": [],
      "collapsed_sections": [],
      "authorship_tag": "ABX9TyNkkotksPARY2YpH7P+VM7J",
      "include_colab_link": true
    },
    "kernelspec": {
      "name": "python3",
      "display_name": "Python 3"
    },
    "language_info": {
      "name": "python"
    }
  },
  "cells": [
    {
      "cell_type": "markdown",
      "metadata": {
        "id": "view-in-github",
        "colab_type": "text"
      },
      "source": [
        "<a href=\"https://colab.research.google.com/github/EdWu-datascience/CSAlgorithm/blob/main/jump_search_Algorithm.ipynb\" target=\"_parent\"><img src=\"https://colab.research.google.com/assets/colab-badge.svg\" alt=\"Open In Colab\"/></a>"
      ]
    },
    {
      "cell_type": "code",
      "execution_count": 16,
      "metadata": {
        "colab": {
          "base_uri": "https://localhost:8080/"
        },
        "id": "ctAODo6NkPku",
        "outputId": "a59db262-8514-4a4f-ccc4-1730dd00dde9"
      },
      "outputs": [
        {
          "output_type": "stream",
          "name": "stdout",
          "text": [
            "4\n"
          ]
        }
      ],
      "source": [
        "#  Jump search algorithm still will use linear search algorithm\n",
        "#.   First we set a number that we want to jump, let's say m\n",
        "#.   So we will go through list[0], list[m], list[2*m],..., list[n*m]\n",
        "#.   Then there will be list[k*m] < target < list[(k+1)*m]\n",
        "#.   Then we perform linear search on interval list[k*m:(k+1)*m]\n",
        "#.   Then best step size would be size m = sqrt(len(list))\n",
        "from math import sqrt\n",
        "def Jump_search(sequence,item):\n",
        "\n",
        "  m = int(sqrt(len(sequence)))\n",
        "  i = 0 \n",
        "  begin_index = 0\n",
        "  end_index = 0\n",
        "  #\n",
        "  while i*m <= len(sequence):\n",
        "    if sequence[i*m] <= item:\n",
        "      begin_index = i*m\n",
        "    elif sequence[i*m] >= item:\n",
        "      end_index = i*m \n",
        "    i += 1 \n",
        "  if begin_index > end_index:\n",
        "    end_index = len(sequence) - 1\n",
        "  temp = begin_index\n",
        "  #. The above while circulation is Jump search\n",
        "  sub_sequence = sequence[begin_index:end_index+1]\n",
        "  begin_index = 0\n",
        "  end_index = len(sub_sequence)\n",
        "  while begin_index <= end_index:\n",
        "\n",
        "    midpoint_index = begin_index + (end_index-begin_index)//2\n",
        "    if sub_sequence[midpoint_index] < item:\n",
        "      begin_index = midpoint_index + 1\n",
        "    elif sub_sequence[midpoint_index] > item:\n",
        "      end_index = midpoint_index - 1\n",
        "    else:\n",
        "      return midpoint_index + temp\n",
        "sequence = [2,3,4,6,8,9,13]\n",
        "item = 8\n",
        "print(Jump_search(sequence,item))"
      ]
    }
  ]
}