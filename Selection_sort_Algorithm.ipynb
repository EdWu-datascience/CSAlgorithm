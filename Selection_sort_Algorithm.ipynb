{
  "nbformat": 4,
  "nbformat_minor": 0,
  "metadata": {
    "colab": {
      "name": "Selection sort Algorithm.ipynb",
      "provenance": [],
      "collapsed_sections": [],
      "authorship_tag": "ABX9TyOZPoSskyNcMA8jQ/O7OclR",
      "include_colab_link": true
    },
    "kernelspec": {
      "name": "python3",
      "display_name": "Python 3"
    },
    "language_info": {
      "name": "python"
    }
  },
  "cells": [
    {
      "cell_type": "markdown",
      "metadata": {
        "id": "view-in-github",
        "colab_type": "text"
      },
      "source": [
        "<a href=\"https://colab.research.google.com/github/EdWu-datascience/CSAlgorithm/blob/main/Selection_sort_Algorithm.ipynb\" target=\"_parent\"><img src=\"https://colab.research.google.com/assets/colab-badge.svg\" alt=\"Open In Colab\"/></a>"
      ]
    },
    {
      "cell_type": "code",
      "execution_count": 8,
      "metadata": {
        "colab": {
          "base_uri": "https://localhost:8080/"
        },
        "id": "ctAODo6NkPku",
        "outputId": "13d9b513-52c7-40fa-d1ca-16f7bdabde09"
      },
      "outputs": [
        {
          "output_type": "stream",
          "name": "stdout",
          "text": [
            "[1, 2, 2, 3, 4, 5, 6, 7]\n"
          ]
        }
      ],
      "source": [
        "def selection_sort(sequence):\n",
        "\n",
        "  sorted = []\n",
        "  length = len(sequence)\n",
        "  while len(sorted) != length:\n",
        "    temp = sequence[0]\n",
        "    for value in sequence[1:]:\n",
        "      if temp > value:\n",
        "        temp = value \n",
        "    sequence.remove(temp)\n",
        "    sorted.append(temp)\n",
        "  return sorted\n",
        "\n",
        "sequence = [4,2,1,5,6,3,2,7]\n",
        "print(selection_sort(sequence))\n",
        "\n",
        "#. Time complexity of this sort algorithm is O(n^2)\n",
        "#. Refer link: https://www.youtube.com/watch?v=4CykZVqBuCw\n",
        "\n",
        "\n",
        "\n",
        "\n",
        "\n"
      ]
    }
  ]
}