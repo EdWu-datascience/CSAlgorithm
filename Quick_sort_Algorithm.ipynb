{
  "nbformat": 4,
  "nbformat_minor": 0,
  "metadata": {
    "colab": {
      "name": "Quick sort Algorithm.ipynb",
      "provenance": [],
      "collapsed_sections": [],
      "authorship_tag": "ABX9TyMeTHk3nrJW4QhmeVqVK8Ko",
      "include_colab_link": true
    },
    "kernelspec": {
      "name": "python3",
      "display_name": "Python 3"
    },
    "language_info": {
      "name": "python"
    }
  },
  "cells": [
    {
      "cell_type": "markdown",
      "metadata": {
        "id": "view-in-github",
        "colab_type": "text"
      },
      "source": [
        "<a href=\"https://colab.research.google.com/github/EdWu-datascience/CSAlgorithm/blob/main/Quick_sort_Algorithm.ipynb\" target=\"_parent\"><img src=\"https://colab.research.google.com/assets/colab-badge.svg\" alt=\"Open In Colab\"/></a>"
      ]
    },
    {
      "cell_type": "code",
      "execution_count": 5,
      "metadata": {
        "colab": {
          "base_uri": "https://localhost:8080/"
        },
        "id": "ctAODo6NkPku",
        "outputId": "61904624-33e0-440e-c27d-3f2b89adec8e"
      },
      "outputs": [
        {
          "output_type": "stream",
          "name": "stdout",
          "text": [
            "[1, 2, 4, 5, 5, 5, 5, 6, 7, 8]\n"
          ]
        }
      ],
      "source": [
        "def quick_sort(sequence):\n",
        "\n",
        "  length = len(sequence)\n",
        "  if length <= 1:\n",
        "    return sequence\n",
        "  else:\n",
        "    pivot = sequence.pop()\n",
        "  large_items = []\n",
        "  small_items = []\n",
        "  for i in range(len(sequence)):\n",
        "    if sequence[i] <= pivot:\n",
        "      small_items.append(sequence[i])\n",
        "    else:\n",
        "      large_items.append(sequence[i])\n",
        "  return quick_sort(small_items) + [pivot] + quick_sort(large_items)\n",
        "sequence = [1,4,5,2,5,5,6,7,8,5]\n",
        "print(quick_sort(sequence))\n",
        "#. Refer link: https://www.youtube.com/watch?v=kFeXwkgnQ9U\n",
        "\n",
        "\n",
        "\n",
        "\n",
        "\n",
        "\n"
      ]
    }
  ]
}