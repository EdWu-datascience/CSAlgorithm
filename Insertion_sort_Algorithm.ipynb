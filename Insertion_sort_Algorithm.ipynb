{
  "nbformat": 4,
  "nbformat_minor": 0,
  "metadata": {
    "colab": {
      "name": "Insertion sort Algorithm.ipynb",
      "provenance": [],
      "collapsed_sections": [],
      "authorship_tag": "ABX9TyOvaTkWxK/BjVaba/JaPA5P",
      "include_colab_link": true
    },
    "kernelspec": {
      "name": "python3",
      "display_name": "Python 3"
    },
    "language_info": {
      "name": "python"
    }
  },
  "cells": [
    {
      "cell_type": "markdown",
      "metadata": {
        "id": "view-in-github",
        "colab_type": "text"
      },
      "source": [
        "<a href=\"https://colab.research.google.com/github/EdWu-datascience/CSAlgorithm/blob/main/Insertion_sort_Algorithm.ipynb\" target=\"_parent\"><img src=\"https://colab.research.google.com/assets/colab-badge.svg\" alt=\"Open In Colab\"/></a>"
      ]
    },
    {
      "cell_type": "code",
      "execution_count": 33,
      "metadata": {
        "colab": {
          "base_uri": "https://localhost:8080/"
        },
        "id": "ctAODo6NkPku",
        "outputId": "e29da6f0-0fe7-4fcf-b78e-004689fac413"
      },
      "outputs": [
        {
          "output_type": "stream",
          "name": "stdout",
          "text": [
            "[1, 2, 4, 4, 5, 6, 7, 10]\n"
          ]
        }
      ],
      "source": [
        "#. First, we split the unsorted list into 1 value list and put the rest into another list\n",
        "#. then put another value from the second list into the 1 value list and compare with it\n",
        "#. if it's bigger than that value then it's in the right position, otherwise we will need to switch\n",
        "#. the position and continue compare that value with the left value until reachs the right position\n",
        "def Insert_sort(sequence):\n",
        "  if len(sequence) <= 1:\n",
        "    return sequence\n",
        "  sorted = [sequence[0]]\n",
        "  sequence = sequence[1:]\n",
        "  while len(sequence) != 0:\n",
        "    length = len(sorted) \n",
        "    item = sequence.pop(0)\n",
        "    index = len(sorted)\n",
        "    for i in range(length):\n",
        "      if sorted[length-i-1] > item:\n",
        "        index = length - i -1\n",
        "    sorted.insert(index,item)\n",
        "  return sorted\n",
        "\n",
        "sequence = [7,4,2,4,5,6,1,10]\n",
        "print(Insert_sort(sequence))\n",
        "#. Refer link: https://www.youtube.com/watch?v=byHi41L9vTM\n",
        "#. Time complexity: same as bubble sort but might be faster sometimes\n"
      ]
    }
  ]
}