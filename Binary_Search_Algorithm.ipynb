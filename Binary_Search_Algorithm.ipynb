{
  "nbformat": 4,
  "nbformat_minor": 0,
  "metadata": {
    "colab": {
      "name": "Binary Search Algorithm.ipynb",
      "provenance": [],
      "collapsed_sections": [],
      "authorship_tag": "ABX9TyMdeq0arO2NrMfZWEYilrOK",
      "include_colab_link": true
    },
    "kernelspec": {
      "name": "python3",
      "display_name": "Python 3"
    },
    "language_info": {
      "name": "python"
    }
  },
  "cells": [
    {
      "cell_type": "markdown",
      "metadata": {
        "id": "view-in-github",
        "colab_type": "text"
      },
      "source": [
        "<a href=\"https://colab.research.google.com/github/EdWu-datascience/CSAlgorithm/blob/main/Binary_Search_Algorithm.ipynb\" target=\"_parent\"><img src=\"https://colab.research.google.com/assets/colab-badge.svg\" alt=\"Open In Colab\"/></a>"
      ]
    },
    {
      "cell_type": "code",
      "execution_count": 3,
      "metadata": {
        "colab": {
          "base_uri": "https://localhost:8080/"
        },
        "id": "ctAODo6NkPku",
        "outputId": "6e059993-f7b1-4cea-f592-07e6a4c6ccc8"
      },
      "outputs": [
        {
          "output_type": "stream",
          "name": "stdout",
          "text": [
            "7\n"
          ]
        }
      ],
      "source": [
        "def binary_search(sequence,item):\n",
        "  #. The list sequence must be sorted if we want this algorithm to work\n",
        "  begin_index = 0\n",
        "  last_index = len(sequence) - 1\n",
        "  while begin_index <= last_index:\n",
        "    midpoint_index = begin_index + (last_index - begin_index)//2\n",
        "    if sequence[midpoint_index] < item:\n",
        "      begin_index = midpoint_index + 1\n",
        "    elif sequence[midpoint_index] > item:\n",
        "      last_index = midpoint_index - 1\n",
        "    else:\n",
        "      return midpoint_index\n",
        "sequence = [2,3,4,5,6,7,8,9,10]\n",
        "item = 9\n",
        "print(binary_search(sequence,item))\n",
        "#. The overall time complexity of this algorithm is log2(n)"
      ]
    }
  ]
}